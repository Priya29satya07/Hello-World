{
  "cells": [
    {
      "cell_type": "markdown",
      "metadata": {
        "id": "FQfiAGQM1Gsw"
      },
      "source": [
        "# Introduction to Python - Recap"
      ]
    },
    {
      "cell_type": "markdown",
      "metadata": {
        "id": "moB_RUP61Gsz"
      },
      "source": [
        "# Numbers: Integers, Floats and Complex Numbers\n",
        "### Integers: Whole numbers\n",
        "### Floats: Numbers with decimal point\n",
        "### Complex Numbers: Numbers with real and imaginary parts."
      ]
    },
    {
      "cell_type": "code",
      "execution_count": 6,
      "metadata": {
        "id": "fiezkNDO1Gsz"
      },
      "outputs": [],
      "source": [
        "x=5\n",
        "y=10.006\n",
        "z=2j+3"
      ]
    },
    {
      "cell_type": "markdown",
      "metadata": {
        "id": "42v8Ez8J1Gs0"
      },
      "source": [
        "### Note:\n",
        "#### print(text) displays the the given text on the monitor.\n",
        "#### variable=input(prompt) read the text from keyboard\n",
        "#### type(object) returns the type(class) of the given object"
      ]
    },
    {
      "cell_type": "code",
      "execution_count": 7,
      "metadata": {
        "colab": {
          "base_uri": "https://localhost:8080/"
        },
        "id": "YjgFVlOb1Gs0",
        "outputId": "3f85b2e3-82f2-42da-f883-91c4a4ad7d18"
      },
      "outputs": [
        {
          "output_type": "stream",
          "name": "stdout",
          "text": [
            "<class 'int'>\n",
            "<class 'float'>\n",
            "<class 'complex'>\n"
          ]
        }
      ],
      "source": [
        "# Display the type of different number objects\n",
        "print(type(x))\n",
        "print(type(y))\n",
        "print(type(z))"
      ]
    },
    {
      "cell_type": "markdown",
      "metadata": {
        "id": "qdCVqykx1Gs1"
      },
      "source": [
        "# Arithmetic Operators\n",
        "\n",
        "![ArithOpe.png](attachment:ArithOpe.png)\n"
      ]
    },
    {
      "cell_type": "code",
      "execution_count": 18,
      "metadata": {
        "colab": {
          "base_uri": "https://localhost:8080/"
        },
        "id": "cWDXGfTu1Gs1",
        "outputId": "703404cc-1b30-4691-d717-c1dd21c005cb"
      },
      "outputs": [
        {
          "output_type": "stream",
          "name": "stdout",
          "text": [
            "15.006\n",
            "-5.006\n",
            "0.0\n",
            "0.4997001798920648\n",
            "5.0\n",
            "50.03\n",
            "9860384.79634309\n"
          ]
        }
      ],
      "source": [
        "# Take any two numbers and display the results ofter performing all basic arithmetic operaions on them.\n",
        "print(x+y)\n",
        "print(x-y)\n",
        "print(x//y)\n",
        "print(x/y)\n",
        "print(x%y)\n",
        "print(x*y)\n",
        "print(x**y)"
      ]
    },
    {
      "cell_type": "markdown",
      "metadata": {
        "id": "XNaiVayT1Gs2"
      },
      "source": [
        "# Strings\n",
        "### Surrounded in either single quotes or double quotes."
      ]
    },
    {
      "cell_type": "code",
      "execution_count": 10,
      "metadata": {
        "colab": {
          "base_uri": "https://localhost:8080/"
        },
        "id": "rpT3nvYY1Gs2",
        "outputId": "6e1fa6d8-2e58-49db-c0dc-b43b2499ad9b"
      },
      "outputs": [
        {
          "output_type": "stream",
          "name": "stdout",
          "text": [
            "<class 'str'> <class 'str'>\n"
          ]
        }
      ],
      "source": [
        "# Create two string objects one with double quotes and other with single quotes. Also display the type of both string objects.\n",
        "a=\"hii\"\n",
        "b='hello'\n",
        "print(type(a),type(b))"
      ]
    },
    {
      "cell_type": "markdown",
      "metadata": {
        "id": "XuaqW04B1Gs3"
      },
      "source": [
        "### Sring Concatenation: \n",
        "#### + operator when used between stings acts as concatenation operator to join them."
      ]
    },
    {
      "cell_type": "code",
      "execution_count": 41,
      "metadata": {
        "colab": {
          "base_uri": "https://localhost:8080/"
        },
        "id": "33GRIkPf1Gs3",
        "outputId": "22ec8d0f-9083-4f77-e5c0-3e08a64b16f8"
      },
      "outputs": [
        {
          "output_type": "stream",
          "name": "stdout",
          "text": [
            "hii\n",
            "hello\n",
            "hii hello\n"
          ]
        }
      ],
      "source": [
        "# Take first name and last name from user then display full name.\n",
        "s1=input()\n",
        "s2=input()\n",
        "print(s1+\" \"+s2)"
      ]
    },
    {
      "cell_type": "markdown",
      "metadata": {
        "id": "L_3X7G9p1Gs3"
      },
      "source": [
        "### String Indexing :\n",
        "### Index of first character is 0\n",
        "### Negative Indexing: Index of the last character is -1"
      ]
    },
    {
      "cell_type": "code",
      "execution_count": 16,
      "metadata": {
        "colab": {
          "base_uri": "https://localhost:8080/"
        },
        "id": "RlJAmvQa1Gs4",
        "outputId": "d3fb7661-481e-44ca-c2e9-8fb119330d25"
      },
      "outputs": [
        {
          "output_type": "stream",
          "name": "stdout",
          "text": [
            "S V E C\n",
            "C E V S\n"
          ]
        }
      ],
      "source": [
        "# Create a string object with string literal \"SVEC\" and display it's characters using both positive & negative indexes.\n",
        "s3=\"SVEC\"\n",
        "print(s3[0],s3[1],s3[2],s3[3])\n",
        "print(s3[-1],s3[-2],s3[-3],s3[-4])"
      ]
    },
    {
      "cell_type": "markdown",
      "metadata": {
        "id": "_8_cm72t1Gs4"
      },
      "source": [
        "### String Slicing\n",
        "### new_string = string[start, end, step]\n",
        "#### --> Note that end index is exclusive in the range\n",
        "#### --> step is optional and its default value is 1"
      ]
    },
    {
      "cell_type": "code",
      "execution_count": 20,
      "metadata": {
        "colab": {
          "base_uri": "https://localhost:8080/"
        },
        "id": "_BVLfaYU1Gs4",
        "outputId": "2d41b829-69a2-4b4b-d2d8-d7401d9d10a7"
      },
      "outputs": [
        {
          "output_type": "stream",
          "name": "stdout",
          "text": [
            "love\n"
          ]
        }
      ],
      "source": [
        "# Extract the word love from a string \"I love my country\"\n",
        "s4=\"i love my country\"\n",
        "print(s4[2:6:1])"
      ]
    },
    {
      "cell_type": "code",
      "execution_count": 23,
      "metadata": {
        "colab": {
          "base_uri": "https://localhost:8080/"
        },
        "id": "uwIfgqHg1Gs4",
        "outputId": "5a1c7e3f-fa80-434f-f610-82c8f27870e7"
      },
      "outputs": [
        {
          "output_type": "stream",
          "name": "stdout",
          "text": [
            "SVEC\n"
          ]
        }
      ],
      "source": [
        "# Extract alternate characters from the begining in a string \"SAVBECC\"\n",
        "s5=\"SAVBECC\"\n",
        "print(s5[0:7:2])"
      ]
    },
    {
      "cell_type": "code",
      "execution_count": 24,
      "metadata": {
        "colab": {
          "base_uri": "https://localhost:8080/"
        },
        "id": "YSzIt3h91Gs5",
        "outputId": "5c60ddb0-5678-4635-be48-7e4d5b3a52af"
      },
      "outputs": [
        {
          "output_type": "stream",
          "name": "stdout",
          "text": [
            "CCEBVAS\n"
          ]
        }
      ],
      "source": [
        "# Reverse the given string\n",
        "print(s5[::-1])"
      ]
    },
    {
      "cell_type": "markdown",
      "metadata": {
        "id": "uooQhfwA1Gs5"
      },
      "source": [
        "### String case-conversion methods\n",
        "#### new_string = string.lower(): lower() returns a new string with all lowercase letters in the original string\n",
        "#### new_string = string.upper(): upper() returns a new string with all uppercase letters in the original string\n",
        " "
      ]
    },
    {
      "cell_type": "code",
      "execution_count": 29,
      "metadata": {
        "colab": {
          "base_uri": "https://localhost:8080/"
        },
        "id": "PgBt4ugC1Gs5",
        "outputId": "c82a90b2-7adc-4d94-d15e-9f2a0c348a0a"
      },
      "outputs": [
        {
          "output_type": "stream",
          "name": "stdout",
          "text": [
            "hello hii\n",
            "HELLO HII\n"
          ]
        }
      ],
      "source": [
        "s6=\"hello hii\"\n",
        "print(s6.lower())\n",
        "print(s6.upper())"
      ]
    },
    {
      "cell_type": "markdown",
      "metadata": {
        "id": "g26PfQE81Gs5"
      },
      "source": [
        "### String splitting\n",
        "#### list_of_strings = string.split(delimiter): split() method returs a list of strings by splitting the original string upon the delimiter.\n",
        "#### --> deliiter is is optional argument and has white space(space, tab or newline) as defalt value."
      ]
    },
    {
      "cell_type": "code",
      "execution_count": 30,
      "metadata": {
        "colab": {
          "base_uri": "https://localhost:8080/"
        },
        "id": "2vJe1qJ11Gs5",
        "outputId": "9357aea9-ff04-468e-8e4f-b7576f4cf459"
      },
      "outputs": [
        {
          "output_type": "stream",
          "name": "stdout",
          "text": [
            "['hi', 'how', 'are', 'you']\n",
            "['The', 'king', 'is', 'back']\n",
            "['I', 'love', 'my', 'india']\n"
          ]
        }
      ],
      "source": [
        "# Split the strings \"Hi how are you\", \"The#king#is#back\" and \"I--love--my--india\" with appropriate delimiters\n",
        "\n",
        "s7=\"hi how are you\"\n",
        "s8=\"The#king#is#back\"\n",
        "s9=\"I--love--my--india\"\n",
        "print(s7.split(' '))\n",
        "print(s8.split('#'))\n",
        "print(s9.split('--'))\n"
      ]
    },
    {
      "cell_type": "markdown",
      "metadata": {
        "id": "dQTyPkJO1Gs5"
      },
      "source": [
        "### Strings joining\n",
        "#### new_string = seperator.join(list_of_strings): Returns a lnew string by joining all the string in the given list with specified separator."
      ]
    },
    {
      "cell_type": "code",
      "execution_count": 33,
      "metadata": {
        "colab": {
          "base_uri": "https://localhost:8080/"
        },
        "id": "RGHl09H-1Gs6",
        "outputId": "d7af01bf-f9c4-4612-fe3f-f865efd8bc0e"
      },
      "outputs": [
        {
          "output_type": "stream",
          "name": "stdout",
          "text": [
            "Chiru Balayya Nag Venky\n",
            "Chiru_Balayya_Nag_Venky\n"
          ]
        }
      ],
      "source": [
        "# Join the list of strings [\"Chiru\", \"Balayya\", \"Nag\", \"Venky\"] with the delimiters \" \" and \"_\".\n",
        "\n",
        "l=[\"Chiru\", \"Balayya\", \"Nag\", \"Venky\"]\n",
        "l1=' '\n",
        "l2='_'\n",
        "print(l1.join(l))\n",
        "print(l2.join(l))"
      ]
    },
    {
      "cell_type": "markdown",
      "metadata": {
        "id": "sZPE74_B1Gs6"
      },
      "source": [
        "# str(), int() and float() functions\n",
        "### str() function converts the given argument as a string\n",
        "### int() function converts the given argument as an integer\n",
        "### float() function converts the given argument as a float"
      ]
    },
    {
      "cell_type": "code",
      "execution_count": 73,
      "metadata": {
        "colab": {
          "base_uri": "https://localhost:8080/"
        },
        "id": "vahDhtr61Gs6",
        "outputId": "dc4ee7e9-6316-459c-8689-98ac924d9e5a"
      },
      "outputs": [
        {
          "output_type": "stream",
          "name": "stdout",
          "text": [
            "200\n",
            "002\n",
            "200.0\n"
          ]
        }
      ],
      "source": [
        "# Create an integer object and reverse it without using loops\n",
        "p=200\n",
        "print(int(p))\n",
        "q=str(p)\n",
        "print(q[::-1])\n",
        "print(float(p))"
      ]
    },
    {
      "cell_type": "markdown",
      "metadata": {
        "id": "lxAVME-B1Gs6"
      },
      "source": [
        "# Boolean Data Type\n",
        "### Values: True & False"
      ]
    },
    {
      "cell_type": "markdown",
      "metadata": {
        "id": "wyIx75sO1Gs6"
      },
      "source": [
        "# Comparison Operators\n",
        "### Also called Relational Operators\n",
        "### To compare two values\n",
        "### Evaluates to Boolean value\n",
        "![New%20Microsoft%20PowerPoint%20Presentation.png](attachment:New%20Microsoft%20PowerPoint%20Presentation.png)\n"
      ]
    },
    {
      "cell_type": "code",
      "execution_count": 48,
      "metadata": {
        "colab": {
          "base_uri": "https://localhost:8080/"
        },
        "id": "FptL5PV71Gs7",
        "outputId": "044d44e7-76fc-4fbf-b4b3-968b15fe1283"
      },
      "outputs": [
        {
          "output_type": "stream",
          "name": "stdout",
          "text": [
            "False\n",
            "True\n",
            "False\n",
            "True\n"
          ]
        }
      ],
      "source": [
        "r=10\n",
        "r1=20\n",
        "print(r==r1)\n",
        "print(r!=r1)\n",
        "print(r>r1)\n",
        "print(r<r1)\n"
      ]
    },
    {
      "cell_type": "markdown",
      "metadata": {
        "id": "c_b80uFM1Gs7"
      },
      "source": [
        "# Logical Operators\n",
        "### To compare Boolean values or expressions.\n",
        "### To evaluate multiple comparisons at a time\n",
        "### Results in Boolean value\n",
        "![New%20Microsoft%20PowerPoint%20Presentation.png](attachment:New%20Microsoft%20PowerPoint%20Presentation.png)\n"
      ]
    },
    {
      "cell_type": "code",
      "execution_count": 53,
      "metadata": {
        "colab": {
          "base_uri": "https://localhost:8080/"
        },
        "id": "437NDMzU1Gs7",
        "outputId": "8055dd49-9102-4d2c-d57e-75706036ace2"
      },
      "outputs": [
        {
          "output_type": "stream",
          "name": "stdout",
          "text": [
            "False\n",
            "True\n",
            "True\n"
          ]
        }
      ],
      "source": [
        "r=10\n",
        "r1=20\n",
        "r2=25\n",
        "r3=40\n",
        "print((r<r1)and(r2>r3))\n",
        "print((r<r1)or(r2>r3))\n",
        "print(not(r2==r3))"
      ]
    },
    {
      "cell_type": "markdown",
      "metadata": {
        "id": "nujS1djS1Gs7"
      },
      "source": [
        "# Flow Control Statements"
      ]
    },
    {
      "cell_type": "markdown",
      "metadata": {
        "id": "4RyP5wHU1Gs7"
      },
      "source": [
        "## if statements\n",
        "![if.png](attachment:if.png)"
      ]
    },
    {
      "cell_type": "code",
      "execution_count": 56,
      "metadata": {
        "colab": {
          "base_uri": "https://localhost:8080/"
        },
        "id": "l_WheSh81Gs7",
        "outputId": "9bdf7d9c-2c11-4cd7-8332-21d31a1a3e17"
      },
      "outputs": [
        {
          "output_type": "stream",
          "name": "stdout",
          "text": [
            "90\n",
            "pass\n"
          ]
        }
      ],
      "source": [
        "# Read the marks and display pass if greater than or equal to 35 \n",
        "m1=int(input())\n",
        "if(m1>=35):\n",
        "  print('pass') \n"
      ]
    },
    {
      "cell_type": "code",
      "execution_count": 55,
      "metadata": {
        "colab": {
          "base_uri": "https://localhost:8080/"
        },
        "id": "-tZ8xYRH1Gs7",
        "outputId": "2bb7461a-4e53-44e4-81e3-a77d5e30397a"
      },
      "outputs": [
        {
          "output_type": "stream",
          "name": "stdout",
          "text": [
            "pass\n"
          ]
        }
      ],
      "source": [
        "# Read the marks and display pass or fail\n",
        "if(m1>=35):\n",
        "  print('pass') \n",
        "else:\n",
        "  print('fail')\n"
      ]
    },
    {
      "cell_type": "code",
      "execution_count": 57,
      "metadata": {
        "colab": {
          "base_uri": "https://localhost:8080/"
        },
        "id": "AW5yvMet1Gs7",
        "outputId": "8bab9e4c-d047-406d-d379-c58deec3fda2"
      },
      "outputs": [
        {
          "output_type": "stream",
          "name": "stdout",
          "text": [
            "A\n"
          ]
        }
      ],
      "source": [
        "# Read the marks and display Grade the studen got\n",
        "if(m1>=35):\n",
        "  print('A')"
      ]
    },
    {
      "cell_type": "markdown",
      "metadata": {
        "id": "T1OxC2pM1Gs8"
      },
      "source": [
        "## while Loop\n",
        "![while.png](attachment:while.png)"
      ]
    },
    {
      "cell_type": "code",
      "execution_count": 89,
      "metadata": {
        "colab": {
          "base_uri": "https://localhost:8080/"
        },
        "id": "IIabFz_H1Gs8",
        "outputId": "389e5151-e1dc-40c1-8454-51d9e53ac59a"
      },
      "outputs": [
        {
          "output_type": "stream",
          "name": "stdout",
          "text": [
            "5\n",
            "15\n"
          ]
        }
      ],
      "source": [
        "# Find out sum of squares first N numbers\n",
        "n=int(input())\n",
        "sum=0\n",
        "while(n>0):\n",
        "       sum+=n\n",
        "       n-=1\n",
        "print(sum)"
      ]
    },
    {
      "cell_type": "markdown",
      "metadata": {
        "id": "0TEwn4KE1Gs8"
      },
      "source": [
        "## for Loop\n",
        "![FOR.png](attachment:FOR.png)"
      ]
    },
    {
      "cell_type": "code",
      "execution_count": 93,
      "metadata": {
        "colab": {
          "base_uri": "https://localhost:8080/"
        },
        "id": "96j3YUwQ1Gs8",
        "outputId": "44660325-f716-4e3b-c469-af438d58d0b7"
      },
      "outputs": [
        {
          "output_type": "stream",
          "name": "stdout",
          "text": [
            "15\n"
          ]
        }
      ],
      "source": [
        "for i in range(1,n+1):\n",
        "  sum+=i\n",
        "print(sum)\n",
        "\n"
      ]
    },
    {
      "cell_type": "markdown",
      "metadata": {
        "id": "5AlWlveJ1Gs8"
      },
      "source": [
        "## range() Function\n",
        "### Reurns a range object with sequence of numbers\n",
        "#### range(stop): Returns a range object with a sequence of numbers from 0 to stop-1.\n",
        "#### range(start, stop): Returns a range object with a sequence of numbers from start to stop-1.\n",
        "#### range(start, stop, step): Retuns a range object with numbers from start with the given step upto stop (exclusive)."
      ]
    },
    {
      "cell_type": "code",
      "execution_count": null,
      "metadata": {
        "id": "2rjnM6Wm1Gs8"
      },
      "outputs": [],
      "source": []
    },
    {
      "cell_type": "code",
      "execution_count": 96,
      "metadata": {
        "colab": {
          "base_uri": "https://localhost:8080/"
        },
        "id": "tqyNWeDY1Gs8",
        "outputId": "243db82c-856c-4c50-e7c4-c4b07b2c4ce9"
      },
      "outputs": [
        {
          "output_type": "stream",
          "name": "stdout",
          "text": [
            "6\n",
            "hi\n",
            "hi\n"
          ]
        }
      ],
      "source": [
        "# Display a message N times.\n",
        "N=int(input())\n",
        "for i in range(1,N+1,3):\n",
        "  print('hi')\n"
      ]
    },
    {
      "cell_type": "code",
      "execution_count": 86,
      "metadata": {
        "colab": {
          "base_uri": "https://localhost:8080/"
        },
        "id": "COIUbCAw1Gs8",
        "outputId": "e6459e38-cebb-430f-b7ec-e7c29115b8db"
      },
      "outputs": [
        {
          "output_type": "stream",
          "name": "stdout",
          "text": [
            "3\n",
            "14\n"
          ]
        }
      ],
      "source": [
        "# Sum of squares of first N numbers\n",
        "\n",
        "sum1=0\n",
        "v=int(input())\n",
        "for i in range(1,v+1):\n",
        "  sum1+= (i*i)\n",
        "print(sum1)"
      ]
    },
    {
      "cell_type": "code",
      "execution_count": 87,
      "metadata": {
        "colab": {
          "base_uri": "https://localhost:8080/"
        },
        "id": "pA48c7qh1Gs8",
        "outputId": "3bb4dba0-fc5c-4085-97fa-eb5fb3d9678e"
      },
      "outputs": [
        {
          "output_type": "stream",
          "name": "stdout",
          "text": [
            "1\n",
            "4\n",
            "30\n"
          ]
        }
      ],
      "source": [
        "# Sum of squares of the numbers from x to y\n",
        "n5=int(input())\n",
        "n6=int(input())\n",
        "sum2=0\n",
        "for i in range(n5,n6+1):\n",
        "  sum2+= (i*i)\n",
        "print(sum2)"
      ]
    },
    {
      "cell_type": "code",
      "execution_count": 91,
      "metadata": {
        "colab": {
          "base_uri": "https://localhost:8080/"
        },
        "id": "sRS6h3Tn1Gs9",
        "outputId": "3de27754-3ef3-4cf1-d976-fe7b88a0a733"
      },
      "outputs": [
        {
          "output_type": "stream",
          "name": "stdout",
          "text": [
            "2\n"
          ]
        }
      ],
      "source": [
        "# Display all the even numbers between x and y.\n",
        "for i in range(n5,n6):\n",
        "  if(i%2==0):\n",
        "    print(i)"
      ]
    },
    {
      "cell_type": "code",
      "execution_count": null,
      "metadata": {
        "id": "61e1djJ71Gs9"
      },
      "outputs": [],
      "source": [
        "# Display all odd numbers between 0 and N without using any arithmetic/logical operation\n"
      ]
    },
    {
      "cell_type": "markdown",
      "metadata": {
        "id": "P9Tt4-YC1Gs9"
      },
      "source": [
        "# Functions\n",
        "## Subprogram which performs a specific task\n",
        "## Types:\n",
        "### 1. Built-in Functions\n",
        "#### print(), input(), len(), int(), float(), str(), type(), range() . . . .\n",
        "### 2. User-defined Functions\n",
        "![function.png](attachment:function.png)"
      ]
    },
    {
      "cell_type": "code",
      "execution_count": null,
      "metadata": {
        "id": "UF5gFdZQ1Gs9"
      },
      "outputs": [],
      "source": []
    },
    {
      "cell_type": "code",
      "execution_count": null,
      "metadata": {
        "id": "lqNhY1rZ1Gs9"
      },
      "outputs": [],
      "source": [
        "# Implement a function to display welcome message\n"
      ]
    },
    {
      "cell_type": "code",
      "execution_count": null,
      "metadata": {
        "id": "wmLemVfH1Gs9"
      },
      "outputs": [],
      "source": [
        "# Implement a function to check password\n"
      ]
    },
    {
      "cell_type": "code",
      "execution_count": null,
      "metadata": {
        "id": "AGRkRcmT1Gs9"
      },
      "outputs": [],
      "source": [
        "# Implement a function to return the factorial of the given number\n"
      ]
    },
    {
      "cell_type": "markdown",
      "metadata": {
        "id": "iGpWqsxN1Gs9"
      },
      "source": [
        "# Lists"
      ]
    },
    {
      "cell_type": "markdown",
      "metadata": {
        "id": "7Ydo4kId1Gs-"
      },
      "source": [
        "## Ordered Sequence of items.\n",
        "## List is a comma separated items between opening and closing sqare brackets.\n",
        "## Individual items of a list can  be accessed using indexing.\n",
        "### List are mutable objects in python\n"
      ]
    },
    {
      "cell_type": "code",
      "execution_count": null,
      "metadata": {
        "id": "4I6X73xq1Gs-"
      },
      "outputs": [],
      "source": [
        "# Create a list object with different types of objects and show that it is mutable\n",
        "\n",
        "\n",
        "\n",
        "\n"
      ]
    },
    {
      "cell_type": "markdown",
      "metadata": {
        "id": "ekQYayIE1Gs-"
      },
      "source": [
        "## A list can have other list as its item"
      ]
    },
    {
      "cell_type": "code",
      "execution_count": null,
      "metadata": {
        "id": "8mCY40-91Gs-"
      },
      "outputs": [],
      "source": [
        "# Create a list object with other list as one of the elements and access its elements usig indexing\n",
        "\n",
        "\n",
        "\n"
      ]
    },
    {
      "cell_type": "markdown",
      "metadata": {
        "id": "DjEQOxVU1Gs-"
      },
      "source": [
        "## List Slicing"
      ]
    },
    {
      "cell_type": "code",
      "execution_count": null,
      "metadata": {
        "id": "pqRzSi521Gs-"
      },
      "outputs": [],
      "source": []
    },
    {
      "cell_type": "markdown",
      "metadata": {
        "id": "UFjVRJ8j1Gs-"
      },
      "source": [
        "## Length and Concatenation of Lists"
      ]
    },
    {
      "cell_type": "code",
      "execution_count": null,
      "metadata": {
        "id": "Dnm_6m-Z1Gs-"
      },
      "outputs": [],
      "source": []
    },
    {
      "cell_type": "markdown",
      "metadata": {
        "id": "61dUub0y1Gs-"
      },
      "source": [
        "## Replication"
      ]
    },
    {
      "cell_type": "code",
      "execution_count": null,
      "metadata": {
        "id": "ELdOMO3g1Gs-"
      },
      "outputs": [],
      "source": [
        "# Create a list of 100 zeros\n",
        "\n"
      ]
    },
    {
      "cell_type": "markdown",
      "metadata": {
        "id": "-QmCRFRR1Gs_"
      },
      "source": [
        "## List Methods"
      ]
    },
    {
      "cell_type": "markdown",
      "metadata": {
        "id": "nYThq1a01Gs_"
      },
      "source": [
        "### index = list.index(item)\n",
        "* Returns the index of the item in the list. \n",
        "* If the item not present python produces a ValueError"
      ]
    },
    {
      "cell_type": "code",
      "execution_count": null,
      "metadata": {
        "id": "lrDel5Tg1Gs_"
      },
      "outputs": [],
      "source": []
    },
    {
      "cell_type": "markdown",
      "metadata": {
        "id": "ydrQlOwF1Gs_"
      },
      "source": [
        "### list.append(item)\n",
        "* Appends the argument at the end of the list."
      ]
    },
    {
      "cell_type": "code",
      "execution_count": null,
      "metadata": {
        "id": "MXVKXvZU1Gs_"
      },
      "outputs": [],
      "source": []
    },
    {
      "cell_type": "markdown",
      "metadata": {
        "id": "2skx9sCE1Gs_"
      },
      "source": [
        "### list.insert(index, item)\n",
        "* Inserts an item at the given index in the list"
      ]
    },
    {
      "cell_type": "code",
      "execution_count": null,
      "metadata": {
        "id": "70tQ1Uxh1Gs_"
      },
      "outputs": [],
      "source": []
    },
    {
      "cell_type": "markdown",
      "metadata": {
        "id": "UMS4YOJV1Gs_"
      },
      "source": [
        "### list.remove(item)\n",
        "* Removes the first occurance of an item from the list\n",
        "* If the item does not exist in the list we will get ValueError error."
      ]
    },
    {
      "cell_type": "code",
      "execution_count": null,
      "metadata": {
        "id": "PkK5GXr81Gs_"
      },
      "outputs": [],
      "source": []
    },
    {
      "cell_type": "markdown",
      "metadata": {
        "id": "eJ7HN5m-1GtA"
      },
      "source": [
        "### list.sort()\n",
        "* Sorts the list in place\n",
        "\n",
        "### list.sort(reverse = True)\n",
        "* Sorts the list in the reverse order\n",
        "#### Note: Python can't sort the list that has both numbers and strings.\n"
      ]
    },
    {
      "cell_type": "code",
      "execution_count": 71,
      "metadata": {
        "colab": {
          "base_uri": "https://localhost:8080/"
        },
        "id": "QOnlClT71GtA",
        "outputId": "816009ab-74b5-43f2-c1af-379045002168"
      },
      "outputs": [
        {
          "output_type": "stream",
          "name": "stdout",
          "text": [
            "None\n"
          ]
        }
      ],
      "source": [
        "print(l.sort())"
      ]
    },
    {
      "cell_type": "markdown",
      "metadata": {
        "id": "29d7DJK91GtA"
      },
      "source": [
        "### list.reverse()\n",
        "* Reverse the order of the list items"
      ]
    },
    {
      "cell_type": "code",
      "execution_count": 70,
      "metadata": {
        "id": "VhteWgrp1GtA"
      },
      "outputs": [],
      "source": [
        "f=l.reverse()"
      ]
    },
    {
      "cell_type": "markdown",
      "metadata": {
        "id": "Z03uUFWD1GtA"
      },
      "source": [
        "### list.copy()\n",
        "* Creates a duplicate copy of the list "
      ]
    },
    {
      "cell_type": "code",
      "execution_count": 67,
      "metadata": {
        "colab": {
          "base_uri": "https://localhost:8080/"
        },
        "id": "trz1vNMG1GtA",
        "outputId": "894b8d53-79a8-40c3-d22b-189e13d9a6bc"
      },
      "outputs": [
        {
          "output_type": "stream",
          "name": "stdout",
          "text": [
            "['Venky', 'Nag', 'Balayya', 'Chiru']\n"
          ]
        }
      ],
      "source": [
        "print(l.copy())"
      ]
    },
    {
      "cell_type": "markdown",
      "metadata": {
        "id": "KcSKRMMf1GtA"
      },
      "source": [
        "### count = list.count(item)\n",
        "* Return the number of occurances of given item"
      ]
    },
    {
      "cell_type": "code",
      "execution_count": null,
      "metadata": {
        "id": "2MUr4ZMO1GtA"
      },
      "outputs": [],
      "source": []
    },
    {
      "cell_type": "markdown",
      "metadata": {
        "id": "KsWYPcp91GtA"
      },
      "source": [
        "# Tuples"
      ]
    },
    {
      "cell_type": "markdown",
      "metadata": {
        "id": "MGY9vz_51GtB"
      },
      "source": [
        "### Same as Lists with the following differences\n",
        "1. Items are enclosed in parenthesis.\n",
        "2. Tuples are immutable objects"
      ]
    },
    {
      "cell_type": "code",
      "execution_count": null,
      "metadata": {
        "id": "iPr8uhXM1GtB"
      },
      "outputs": [],
      "source": [
        "# Create a tuple object and show that it is immutable\n"
      ]
    },
    {
      "cell_type": "markdown",
      "metadata": {
        "id": "8lnPinLi1GtB"
      },
      "source": [
        "### Methods\n",
        "#### count = tuple.count(item)\n",
        "#### index = tuple.index(item) "
      ]
    },
    {
      "cell_type": "code",
      "execution_count": null,
      "metadata": {
        "id": "EVUd2v5X1GtB"
      },
      "outputs": [],
      "source": []
    },
    {
      "cell_type": "markdown",
      "metadata": {
        "id": "6CPT9Mds1GtB"
      },
      "source": [
        "# Dictionary"
      ]
    },
    {
      "cell_type": "markdown",
      "metadata": {
        "id": "AbBfwHtk1GtB"
      },
      "source": [
        "* Mutable collection of key - value pairs enclosed in braces, { }.\n",
        "* {key1:value1, key2:value2, ...}\n",
        "* Values can be accessed though their keys\n",
        "* Dictionaries are unordered --> Order of the keys does not matter to decide whether two dictionaries are same\n",
        "\n",
        "\n"
      ]
    },
    {
      "cell_type": "code",
      "execution_count": null,
      "metadata": {
        "id": "5kJLYNGV1GtB"
      },
      "outputs": [],
      "source": []
    },
    {
      "cell_type": "markdown",
      "metadata": {
        "id": "_UlHgric1GtB"
      },
      "source": [
        "### Methods"
      ]
    },
    {
      "cell_type": "markdown",
      "metadata": {
        "id": "N0ZlF8k71GtB"
      },
      "source": [
        "* keys( ): Returns a dict_keys object with all keys in the dictionary\n",
        "* values( ): Returns a dict_values object with all values in the dictionary\n",
        "* items( ): Returns a dict_items object with all key-value pairs in the dictionay"
      ]
    },
    {
      "cell_type": "code",
      "execution_count": null,
      "metadata": {
        "id": "udGZqAs01GtC"
      },
      "outputs": [],
      "source": []
    }
  ],
  "metadata": {
    "kernelspec": {
      "display_name": "Python 3",
      "language": "python",
      "name": "python3"
    },
    "language_info": {
      "codemirror_mode": {
        "name": "ipython",
        "version": 3
      },
      "file_extension": ".py",
      "mimetype": "text/x-python",
      "name": "python",
      "nbconvert_exporter": "python",
      "pygments_lexer": "ipython3",
      "version": "3.9.4"
    },
    "colab": {
      "provenance": []
    }
  },
  "nbformat": 4,
  "nbformat_minor": 0
}