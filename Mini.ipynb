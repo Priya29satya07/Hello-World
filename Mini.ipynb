{
  "nbformat": 4,
  "nbformat_minor": 0,
  "metadata": {
    "colab": {
      "provenance": [],
      "authorship_tag": "ABX9TyNTqFBonyQVOU16+gu1wIcb",
      "include_colab_link": true
    },
    "kernelspec": {
      "name": "python3",
      "display_name": "Python 3"
    },
    "language_info": {
      "name": "python"
    }
  },
  "cells": [
    {
      "cell_type": "markdown",
      "metadata": {
        "id": "view-in-github",
        "colab_type": "text"
      },
      "source": [
        "<a href=\"https://colab.research.google.com/github/Priya29satya07/Hello-World/blob/main/Mini.ipynb\" target=\"_parent\"><img src=\"https://colab.research.google.com/assets/colab-badge.svg\" alt=\"Open In Colab\"/></a>"
      ]
    },
    {
      "cell_type": "code",
      "execution_count": null,
      "metadata": {
        "colab": {
          "base_uri": "https://localhost:8080/"
        },
        "id": "8yTodkaW0mdr",
        "outputId": "02d260ca-08ec-4657-b20f-b68565db4efb"
      },
      "outputs": [
        {
          "output_type": "stream",
          "name": "stdout",
          "text": [
            "Enter data you want to send->110011\n",
            "Entered data in binary format: 110011\n",
            "Encoded data to be sent to server in binary format: 1100111\n",
            "rejected\n"
          ]
        }
      ],
      "source": [
        "#CRC\n",
        "def xor(a, b):\n",
        " result = []\n",
        " for i in range(1,len(b)):\n",
        "  if a[i]==b[i]:\n",
        "    result.append('0')\n",
        "  else:\n",
        "    result.append('1')\n",
        "  return ''.join(result)\n",
        "def mod2div(dividend, divisor):\n",
        "  pick = len(divisor)\n",
        "  tmp = dividend[0: pick]\n",
        "  while pick<len(dividend):\n",
        "    if tmp[0]== '1':\n",
        "      tmp = xor (divisor, tmp) + dividend [pick]\n",
        "    else:\n",
        "      tmp = xor('0' *pick, tmp) + dividend [pick]\n",
        "      pick += 1\n",
        "    if tmp[0] == '1':\n",
        "      tmp = xor(divisor, tmp)\n",
        "    else:\n",
        "      tmp = xor('0'*pick, tmp)\n",
        "    checkword = tmp\n",
        "    return checkword\n",
        "def encodeData(data, key):\n",
        "  l_key = len(key)\n",
        "  appended_data = data + '0'*(l_key-1)\n",
        "  remainder = mod2div(appended_data, key)\n",
        "  codeword = data + remainder\n",
        "  return codeword\n",
        "def decodedData(codeword,key):\n",
        "  r1=xor(codeword,key)\n",
        "  return r1\n",
        "input_string = input(\"Enter data you want to send->\")\n",
        "data =(''.join(input_string))\n",
        "print(\"Entered data in binary format:\", data)\n",
        "key=\"1001\"\n",
        "ans=encodeData(data, key)\n",
        "print(\"Encoded data to be sent to server in binary format:\",ans)\n",
        "t=decodedData(ans,key)\n",
        "if(t=='0000'):\n",
        "  print(\"accepted\")\n",
        "else:\n",
        "  print(\"rejected\")"
      ]
    },
    {
      "cell_type": "code",
      "source": [
        "#bit stuffing\n",
        "bits=list(input('enter data signals:')) \n",
        "stuf=bits\n",
        "for i in range(0,len(bits)): \n",
        "  if bits[i]=='1': \n",
        "    cnt=cnt+1\n",
        "  else: \n",
        "    cnt=0  \n",
        "  if cnt==5: \n",
        "    bits.insert(i+1,'0') \n",
        "    cnt=0\n",
        "print(\"after stuff\",*stuf,sep=\"\")"
      ],
      "metadata": {
        "colab": {
          "base_uri": "https://localhost:8080/"
        },
        "id": "inx_ObCi3K7v",
        "outputId": "61e7078c-e50d-4ad0-e04f-c44cac3c3e3b"
      },
      "execution_count": null,
      "outputs": [
        {
          "output_type": "stream",
          "name": "stdout",
          "text": [
            "enter data signals:110111111\n",
            "after stuff1101111101\n"
          ]
        }
      ]
    },
    {
      "cell_type": "code",
      "source": [
        "#character stuffing\n",
        "list1=[]\n",
        "flag='@'\n",
        "esc='/'\n",
        "a=input('Enter a message :')\n",
        "list1.append(flag)\n",
        "len1=len(a)\n",
        "for i in a:\n",
        " if i=='@' or i=='/':\n",
        "  list1.append(esc)\n",
        "  list1.append(i)\n",
        " else:\n",
        "  list1.append(i)\n",
        "list1.append(flag)\n",
        "print('At senders side=',list1)\n",
        "len1=len(a)\n",
        "list2=[]\n",
        "del list1[0],list1[len(list1)-1]\n",
        "for i in range(0,len1,1):\n",
        " if a[i]=='/':\n",
        "  list1.remove('/')\n",
        " if a[i]=='/' and a[i+1]=='/':\n",
        "  list2.append(a[i])\n",
        " else:\n",
        "  list2.append(a[i])\n",
        "print('At receivers side=',list2)"
      ],
      "metadata": {
        "colab": {
          "base_uri": "https://localhost:8080/"
        },
        "id": "rFDfLc2J9ezv",
        "outputId": "e59e422f-e889-4e74-bbd5-0b23d0ef0d59"
      },
      "execution_count": null,
      "outputs": [
        {
          "output_type": "stream",
          "name": "stdout",
          "text": [
            "Enter a message :@/priya\n",
            "At senders side= ['@', '/', '@', '/', '/', 'p', 'r', 'i', 'y', 'a', '@']\n",
            "At receivers side= ['@', '/', 'p', 'r', 'i', 'y', 'a']\n"
          ]
        }
      ]
    },
    {
      "cell_type": "code",
      "source": [
        "#Stop and Wait\n",
        "import random\n",
        "import time\n",
        "def simulate_Packet_loss ():\n",
        "  return random.random () <0.3\n",
        "def simulate_data_transmission_time(): \n",
        "  return random.randint (1,5)\n",
        "def simulate_ack_loss():\n",
        "  return random.random() <0.3 \n",
        "def simulate_ack_transmission_time():\n",
        "  return random.randint (1,5)\n",
        "def sender():\n",
        "  sequence_number=0 \n",
        "  message = \"Hello\"\n",
        "  while True:\n",
        "    print (\"Sender sending packet with sequence number\", sequence_number)\n",
        "    time.sleep(simulate_data_transmission_time())\n",
        "    if simulate_Packet_loss ():\n",
        "      print ('sender packet lost with sequence number', sequence_number) \n",
        "      continue\n",
        "    print (\"sender waiting for Ack with sequence number\", sequence_number) \n",
        "    time.sleep(simulate_ack_transmission_time())\n",
        "    if simulate_ack_loss(): \n",
        "      print (\"sender:ACK lost with sequence number\", sequence_number)\n",
        "      continue\n",
        "    print (\"Sender Ack received with sequence number\", sequence_number)\n",
        "    sequence_number+=1\n",
        "    if sequence_number==len(message):\n",
        "      break\n",
        "def receiver():\n",
        "  expected_sequence_number=0 \n",
        "  message_buffer =[]\n",
        "  while True:\n",
        "    print (\"Receiver: waiting for packet with sequence number\", expected_sequence_number)\n",
        "    time.sleep(simulate_data_transmission_time())\n",
        "    if simulate_Packet_loss ():\n",
        "      print (\"Receiver: packet loss with sequence number\", expected_sequence_number)\n",
        "      continue\n",
        "    print (\"receiver packet received with sequence number \",expected_sequence_number) \n",
        "    time.sleep(simulate_ack_transmission_time())\n",
        "    print (\"Resiver sending ACK with Sequence number\", expected_sequence_number)\n",
        "    message_buffer.append (expected_sequence_number)\n",
        "    expected_sequence_number +=1\n",
        "    if len(message_buffer) ==len (\"Hello\"):\n",
        "      break\n",
        "  message=\" \"\n",
        "  for sequence_number in message_buffer:\n",
        "    message += \"Hello\" [ sequence_number]\n",
        "  print (\"Recover: message received:\" ,message)\n",
        "if __name__=='__main__':\n",
        "  sender()\n",
        "  receiver()\n"
      ],
      "metadata": {
        "colab": {
          "base_uri": "https://localhost:8080/"
        },
        "id": "vQHe8Ntz8MoE",
        "outputId": "9c89b386-3d47-4764-c5f3-e19c1d7e7e4e"
      },
      "execution_count": 2,
      "outputs": [
        {
          "output_type": "stream",
          "name": "stdout",
          "text": [
            "Sender sending packet with sequence number 0\n",
            "sender waiting for Ack with sequence number 0\n",
            "Sender Ack received with sequence number 0\n",
            "Sender sending packet with sequence number 1\n",
            "sender waiting for Ack with sequence number 1\n",
            "sender:ACK lost with sequence number 1\n",
            "Sender sending packet with sequence number 1\n",
            "sender waiting for Ack with sequence number 1\n",
            "Sender Ack received with sequence number 1\n",
            "Sender sending packet with sequence number 2\n",
            "sender packet lost with sequence number 2\n",
            "Sender sending packet with sequence number 2\n",
            "sender waiting for Ack with sequence number 2\n",
            "Sender Ack received with sequence number 2\n",
            "Sender sending packet with sequence number 3\n",
            "sender packet lost with sequence number 3\n",
            "Sender sending packet with sequence number 3\n",
            "sender packet lost with sequence number 3\n",
            "Sender sending packet with sequence number 3\n",
            "sender packet lost with sequence number 3\n",
            "Sender sending packet with sequence number 3\n",
            "sender waiting for Ack with sequence number 3\n",
            "Sender Ack received with sequence number 3\n",
            "Sender sending packet with sequence number 4\n",
            "sender waiting for Ack with sequence number 4\n",
            "Sender Ack received with sequence number 4\n",
            "Receiver: waiting for packet with sequence number 0\n",
            "Receiver: packet loss with sequence number 0\n",
            "Receiver: waiting for packet with sequence number 0\n",
            "receiver packet received with sequence number  0\n",
            "Resiver sending ACK with Sequence number 0\n",
            "Receiver: waiting for packet with sequence number 1\n",
            "receiver packet received with sequence number  1\n",
            "Resiver sending ACK with Sequence number 1\n",
            "Receiver: waiting for packet with sequence number 2\n",
            "receiver packet received with sequence number  2\n",
            "Resiver sending ACK with Sequence number 2\n",
            "Receiver: waiting for packet with sequence number 3\n",
            "Receiver: packet loss with sequence number 3\n",
            "Receiver: waiting for packet with sequence number 3\n",
            "Receiver: packet loss with sequence number 3\n",
            "Receiver: waiting for packet with sequence number 3\n",
            "receiver packet received with sequence number  3\n",
            "Resiver sending ACK with Sequence number 3\n",
            "Receiver: waiting for packet with sequence number 4\n",
            "Receiver: packet loss with sequence number 4\n",
            "Receiver: waiting for packet with sequence number 4\n",
            "Receiver: packet loss with sequence number 4\n",
            "Receiver: waiting for packet with sequence number 4\n",
            "receiver packet received with sequence number  4\n",
            "Resiver sending ACK with Sequence number 4\n",
            "Recover: message received:  Hello\n"
          ]
        }
      ]
    },
    {
      "cell_type": "code",
      "source": [
        "#Dijksta\n",
        "def minDistance(V,dist,visited):\n",
        " min=9999\n",
        " for v in range(V):\n",
        "  if dist[v]<min and visited[v]==False:\n",
        "    min=dist[v]\n",
        "    min_index=v\n",
        "    return min_index\n",
        "def dijkstra(graph,V,src):\n",
        " dist=[9999]*V\n",
        " dist[src]=0\n",
        " visited=[False]*V\n",
        " for count in range(V):\n",
        "  u=minDistance(V,dist,visited)\n",
        "  visited[u]=True\n",
        "  for v in range(V):\n",
        "    if(graph[u][v]>0 and visited[v]==False and dist[v]>dist[u]+graph[u][v]):\n",
        "      dist[v]=dist[u]+graph[u][v]\n",
        "  print(\"vertex \\t distance from source\")\n",
        "  for node in range(V):\n",
        "    print(node,\"\\t\\t\",dist[node])\n",
        "if __name__=='__main__':\n",
        " n=int(input(\"enter number of vertices:\"))\n",
        " print(\"enter the adjacency matrix:\\n\")\n",
        " G=[]\n",
        " for i in range(n):\n",
        "  data=list(map(int,input().split(' ')))\n",
        "  G.append(data)\n",
        " s=int(input(\"enter the source vertex:\"))\n",
        " dijkstra(G,n,s)\n"
      ],
      "metadata": {
        "colab": {
          "base_uri": "https://localhost:8080/"
        },
        "id": "Hkxo7meZ94XQ",
        "outputId": "8582ae4b-3f72-4ca5-f851-36f52c616cd3"
      },
      "execution_count": null,
      "outputs": [
        {
          "output_type": "stream",
          "name": "stdout",
          "text": [
            "enter number of vertices:2\n",
            "enter the adjacency matrix:\n",
            "\n",
            "0 1\n",
            "1 0\n",
            "enter the source vertex:0\n",
            "vertex \t distance from source\n",
            "0 \t\t 0\n",
            "1 \t\t 1\n",
            "vertex \t distance from source\n",
            "0 \t\t 0\n",
            "1 \t\t 1\n"
          ]
        }
      ]
    },
    {
      "cell_type": "code",
      "source": [
        "#distance vector\n",
        "class Graph:\n",
        "  def __init__(self, vertices):\n",
        "    self.V = vertices \n",
        "    self.graph = [] \n",
        "  def addEdge(self, u, v, w):\n",
        "    self.graph.append([u, v, w])\n",
        "  def print_solution(self, dist):\n",
        "    print(\"Vertex Distance from Source\")\n",
        "    for i in range(self.V):\n",
        "      print(\"{0}\\t\\t{1}\".format(i, dist[i]))\n",
        "  def BellmanFord(self, src):\n",
        "    dist = [float(\"Inf\")] * self.V\n",
        "    dist[src] = 0\n",
        "    for i in range(self.V - 1):\n",
        "      for u, v, w in self.graph:\n",
        "        if dist[u] != float(\"Inf\") and dist[u] + w < dist[v]:\n",
        "          dist[v] = dist[u] + w\n",
        "      for u, v, w in self.graph:\n",
        "        if dist[u] != float(\"Inf\") and dist[u] + w < dist[v]:\n",
        "          print(\"Graph contains negative weight cycle\")\n",
        "          return\n",
        "    self.print_solution(dist)\n",
        "if __name__ == '__main__':\n",
        "  g = Graph(5)\n",
        "  g.addEdge(0, 1, -1)\n",
        "  g.addEdge(0, 2, 4)\n",
        "  g.addEdge(1, 2, 3)\n",
        "  g.addEdge(1, 3, 2)\n",
        "  g.addEdge(1, 4, 2)\n",
        "  g.addEdge(3, 2, 5)\n",
        "  g.addEdge(3, 1, 1)\n",
        "  g.addEdge(4, 3, -3)\n",
        "  g.BellmanFord(0)\n"
      ],
      "metadata": {
        "colab": {
          "base_uri": "https://localhost:8080/"
        },
        "id": "_sQmGUL6--S_",
        "outputId": "b2e1c10e-0d5b-4c3b-c253-ea9bd5828842"
      },
      "execution_count": null,
      "outputs": [
        {
          "output_type": "stream",
          "name": "stdout",
          "text": [
            "Vertex Distance from Source\n",
            "0\t\t0\n",
            "1\t\t-1\n",
            "2\t\t2\n",
            "3\t\t-2\n",
            "4\t\t1\n"
          ]
        }
      ]
    },
    {
      "cell_type": "code",
      "source": [
        "#leaky bucket\n",
        "storage=0\n",
        "no_of_queries=4\n",
        "bucket_size=10\n",
        "input_pkt_size=4\n",
        "output_pkt_size=1\n",
        "for i in range(0,no_of_queries):\n",
        "  size_left=bucket_size-storage\n",
        "  if input_pkt_size<=size_left:\n",
        "    storage+=input_pkt_size\n",
        "  else:\n",
        "    print(\"packet loss=\",input_pkt_size)\n",
        "  print(f\"Bucket size={storage} out of bucket size={bucket_size}\")\n",
        "  storage-=output_pkt_size"
      ],
      "metadata": {
        "colab": {
          "base_uri": "https://localhost:8080/"
        },
        "id": "17hPbGFzAUvn",
        "outputId": "b7d5ceba-ad56-4a80-db46-c89b423fca9b"
      },
      "execution_count": null,
      "outputs": [
        {
          "output_type": "stream",
          "name": "stdout",
          "text": [
            "Bucket size=4 out of bucket size=10\n",
            "Bucket size=7 out of bucket size=10\n",
            "Bucket size=10 out of bucket size=10\n",
            "packet loss= 4\n",
            "Bucket size=9 out of bucket size=10\n"
          ]
        }
      ]
    },
    {
      "cell_type": "code",
      "source": [
        "#TCP\n",
        "#MyClient.java\n",
        "import java.io.*;\n",
        "import java.net.*;\n",
        "public class Myclient\n",
        "{\n",
        "public static void main(String args[])\n",
        "{\n",
        "try\n",
        "{\n",
        "System.out.println(\"Client started\");\n",
        "Socket ss=new Socket(\"localhost\",6666);\n",
        "BufferedReader in =new BufferedReader(new InputStreamReader(System.in));\n",
        "System.out.println(\"Enter a String\");\n",
        "String str=in.readLine();\n",
        "PrintWriter out=new PrintWriter(ss.getOutputStream(),true);\n",
        "out.println(str);\n",
        "BufferedReader inn =new BufferedReader(new InputStreamReader(ss.getInputStream()));\n",
        "System.out.println(inn.readLine());\n",
        "ss.close();\n",
        "}\n",
        "catch(Exception e)\n",
        "{\n",
        "System.out.println(e);\n",
        "}\n",
        "}\n",
        "}\n",
        "\n",
        "#Output: \n",
        "Client started\n",
        "Enter a String\n",
        "hello\n",
        "Server says:hello\n",
        "\n",
        "\n",
        "#MyServer.java\n",
        "import java.io.*;\n",
        "import java.net.*;\n",
        "public class MyServer\n",
        "{\n",
        "public static void main(String [] args)\n",
        "{\n",
        "try\n",
        "{\n",
        "System.out.println(\"Waiting for Client....\");\n",
        "ServerSocket ss=new ServerSocket(6666);\n",
        "Socket s=ss.accept();\n",
        "System.out.println(\"Conn Established\");\n",
        "BufferedReader in = new BufferedReader(new InputStreamReader(s.getInputStream()));\n",
        "String str=in.readLine();\n",
        "PrintWriter out=new PrintWriter(s.getOutputStream(),true);\n",
        "out.println(\"Server says:\"+str);\n",
        "System.out.println(\"message=\"+str);\n",
        "ss.close();\n",
        "}\n",
        "catch(Exception e)\n",
        "{\n",
        "System.out.println(e);\n",
        "}\n",
        "}\n",
        "}\n",
        "\n",
        "\n",
        "#Output:\n",
        "Waiting for Client....\n",
        "Conn Established\n",
        "message=hello\n"
      ],
      "metadata": {
        "id": "QY4qzCMABIr1"
      },
      "execution_count": null,
      "outputs": []
    },
    {
      "cell_type": "code",
      "source": [
        "#MyClientUDP.java\n",
        "import java.io.IOException;\n",
        "import java.net.DatagramPacket;\n",
        "import java.net.DatagramSocket;\n",
        "import java.net.InetAddress;\n",
        "import java.util.Scanner;\n",
        "public class MyClientUDP\n",
        "{\n",
        "      public static void main(String args[]) throws IOException\n",
        "      {\n",
        "            Scanner sc = new Scanner(System.in);\n",
        "            DatagramSocket ds = new DatagramSocket();\n",
        "\n",
        "            InetAddress ip = InetAddress.getLocalHost();\n",
        "            byte buf[] = null;\n",
        "            while (true)\n",
        "            {\n",
        "                  String inp = sc.nextLine();\n",
        "                  buf = inp.getBytes();\n",
        "                  DatagramPacket DpSend = new DatagramPacket(buf, buf.length, ip, 1234);\n",
        "                  ds.send(DpSend);\n",
        "                  if (inp.equals(\"bye\"))\n",
        "                        break;\n",
        "            }\n",
        "      }\n",
        "}\n",
        "#Output: \n",
        "Hello All...\n",
        "Good Morning\n",
        "Have a nice day!!\n",
        "bye\n",
        "\n",
        "#MyServer.java\n",
        "import java.io.IOException;\n",
        "import java.net.DatagramPacket;\n",
        "import java.net.DatagramSocket;\n",
        "import java.net.InetAddress;\n",
        "import java.net.SocketException;\n",
        "public class MyServerUDP\n",
        "{\n",
        "    public static void main(String[] args) throws IOException\n",
        "    {\n",
        "        DatagramSocket ds = new DatagramSocket(1234);\n",
        "        byte[] receive = new byte[65535];\n",
        "        DatagramPacket DpReceive = null;\n",
        "        while (true)\n",
        "        {\n",
        "            DpReceive = new DatagramPacket(receive, receive.length);\n",
        "            ds.receive(DpReceive);\n",
        "            System.out.println(\"Client:-\" + data(receive));\n",
        "            if (data(receive).toString().equals(\"bye\"))\n",
        "            {\n",
        "                System.out.println(\"Client sent bye.....EXITING\");\n",
        "                break;\n",
        "            }\n",
        "            receive = new byte[65535];\n",
        "        }\n",
        "    }\n",
        "    public static StringBuilder data(byte[] a)\n",
        "    {\n",
        "        if (a == null)\n",
        "            return null;\n",
        "        StringBuilder ret = new StringBuilder();\n",
        "        int i = 0;\n",
        "        while (a[i] != 0)\n",
        "        {\n",
        "            ret.append((char) a[i]);\n",
        "            i++;\n",
        "        }\n",
        "        return ret;\n",
        "    }\n",
        "}\n",
        "#Output:\n",
        "Client:-Hello All...\n",
        "Client:-Good Morning\n",
        "Client:-Have a nice day!!\n",
        "Client:-bye\n",
        "Client sent bye.....EXITING\n"
      ],
      "metadata": {
        "id": "y2MLXOq68JBv"
      },
      "execution_count": null,
      "outputs": []
    }
  ]
}